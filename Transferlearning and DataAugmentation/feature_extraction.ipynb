{
  "nbformat": 4,
  "nbformat_minor": 0,
  "metadata": {
    "colab": {
      "name": "feature_extraction.ipynb",
      "provenance": [],
      "collapsed_sections": []
    },
    "kernelspec": {
      "name": "python3",
      "display_name": "Python 3"
    },
    "language_info": {
      "name": "python"
    }
  },
  "cells": [
    {
      "cell_type": "code",
      "execution_count": 16,
      "metadata": {
        "id": "UyEDn3qboyrn"
      },
      "outputs": [],
      "source": [
        "# import lib\n",
        "from sklearn.linear_model import LogisticRegression\n",
        "from sklearn.model_selection import GridSearchCV\n",
        "from sklearn.metrics import classification_report\n",
        "from imutils import paths\n",
        "from keras.applications.vgg16 import VGG16\n",
        "from keras.applications import imagenet_utils\n",
        "from keras.preprocessing.image import img_to_array\n",
        "from keras.preprocessing.image import load_img\n",
        "from sklearn.preprocessing import LabelEncoder\n",
        "from sklearn.model_selection import train_test_split\n",
        "import numpy as np\n",
        "import random\n",
        "import os"
      ]
    },
    {
      "cell_type": "code",
      "source": [
        "# Extract zipfile data\n",
        "from zipfile import ZipFile\n",
        "file_name = '/content/dataset.zip'\n",
        "with ZipFile(file_name, 'r') as zip:\n",
        "  zip.extractall()"
      ],
      "metadata": {
        "id": "aTGAoLeaWJCX"
      },
      "execution_count": 17,
      "outputs": []
    },
    {
      "cell_type": "code",
      "source": [
        "# Take image path and shuffle\n",
        "image_path = list(paths.list_images('/content/dataset'))\n",
        "random.shuffle(image_path)"
      ],
      "metadata": {
        "id": "9AYDNNOaXKy8"
      },
      "execution_count": 18,
      "outputs": []
    },
    {
      "cell_type": "code",
      "source": [
        "# Take label\n",
        "labels = [p.split(os.path.sep)[-2] for p in image_path]\n",
        "\n",
        "# Convert label to number\n",
        "le = LabelEncoder()\n",
        "labels = le.fit_transform(labels)"
      ],
      "metadata": {
        "id": "za3pzFQnXh83"
      },
      "execution_count": 19,
      "outputs": []
    },
    {
      "cell_type": "code",
      "source": [
        "# Load model VGG16\n",
        "model = VGG16(weights = 'imagenet', include_top=False)"
      ],
      "metadata": {
        "id": "tp-QIrOGz1qD"
      },
      "execution_count": 20,
      "outputs": []
    },
    {
      "cell_type": "code",
      "source": [
        "# Load image and resize image to VGG16 (224, 224)\n",
        "list_image = []\n",
        "for (j, imagePath) in enumerate(image_path):\n",
        "  image = load_img(imagePath, target_size = (224, 224))\n",
        "  image = img_to_array(image)\n",
        "\n",
        "  image = np.expand_dims(image, 0)\n",
        "  image = imagenet_utils.preprocess_input(image)\n",
        "  \n",
        "  list_image.append(image)\n",
        "\n",
        "list_image = np.vstack(list_image)"
      ],
      "metadata": {
        "id": "OiwYPQ_90F0A"
      },
      "execution_count": 21,
      "outputs": []
    },
    {
      "cell_type": "code",
      "source": [
        "# Use pre_trained model to take image feature\n",
        "features = model.predict(list_image)\n",
        "\n",
        "# Similar to flatten in CNN, tensor 3 dims to vector 1 dim\n",
        "features = features.reshape((features.shape[0], 512*7*7))"
      ],
      "metadata": {
        "id": "tXq4ccC41T6j"
      },
      "execution_count": 22,
      "outputs": []
    },
    {
      "cell_type": "code",
      "source": [
        "# Divide training test, test set\n",
        "X_train, X_test, y_train, y_test = train_test_split(features, labels, test_size = 0.2, random_state=42)"
      ],
      "metadata": {
        "id": "96GcQKZN18yd"
      },
      "execution_count": 23,
      "outputs": []
    },
    {
      "cell_type": "markdown",
      "source": [
        "Dùng Grid Search để tìm parameter tốt nhất cho model.\n"
      ],
      "metadata": {
        "id": "34hRyAxc-e9q"
      }
    },
    {
      "cell_type": "code",
      "source": [
        "params = {'C' : [0.1, 1.0, 10.0, 100.0]}\n",
        "\n",
        "model = GridSearchCV(LogisticRegression(), params)\n",
        "model.fit(X_train, y_train)\n",
        "print('Best parameter for the model {}'.format(model.best_params_))"
      ],
      "metadata": {
        "id": "mVpTKLd7-tgK"
      },
      "execution_count": null,
      "outputs": []
    },
    {
      "cell_type": "code",
      "source": [
        "# Evaluate Model\n",
        "preds = model.predict(X_test)\n",
        "print(classification_report(y_test, preds))"
      ],
      "metadata": {
        "id": "s8zmj1Zw_JFQ"
      },
      "execution_count": null,
      "outputs": []
    }
  ]
}