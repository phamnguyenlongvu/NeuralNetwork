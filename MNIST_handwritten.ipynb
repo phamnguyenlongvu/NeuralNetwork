{
  "nbformat": 4,
  "nbformat_minor": 0,
  "metadata": {
    "colab": {
      "name": "MNIST_handwritten.ipynb",
      "provenance": [],
      "collapsed_sections": []
    },
    "kernelspec": {
      "name": "python3",
      "display_name": "Python 3"
    },
    "language_info": {
      "name": "python"
    }
  },
  "cells": [
    {
      "cell_type": "code",
      "source": [
        "# Import lib\n",
        "import numpy as np\n",
        "import matplotlib.pyplot as plt\n",
        "from keras.models import Sequential\n",
        "from keras.layers import Dense, Dropout, Activation, Flatten\n",
        "from keras.layers import Conv2D, MaxPool2D\n",
        "from keras.utils import np_utils\n",
        "from keras.datasets import mnist"
      ],
      "metadata": {
        "id": "fiuTKPrntL0y"
      },
      "execution_count": 1,
      "outputs": []
    },
    {
      "cell_type": "code",
      "source": [
        "# Load dataset\n",
        "(X_train, y_train), (X_test, y_test) = mnist.load_data()\n",
        "X_val, y_val = X_train[50000:, :], y_train[50000:]\n",
        "X_train, y_train = X_train[:50000, :], y_train[:50000]\n",
        "X_train.shape"
      ],
      "metadata": {
        "colab": {
          "base_uri": "https://localhost:8080/"
        },
        "id": "h2T1Rtett3Db",
        "outputId": "7d590a73-1cda-4722-e2a4-60dbe5bd27b2"
      },
      "execution_count": 2,
      "outputs": [
        {
          "output_type": "stream",
          "name": "stdout",
          "text": [
            "Downloading data from https://storage.googleapis.com/tensorflow/tf-keras-datasets/mnist.npz\n",
            "11493376/11490434 [==============================] - 0s 0us/step\n",
            "11501568/11490434 [==============================] - 0s 0us/step\n"
          ]
        },
        {
          "output_type": "execute_result",
          "data": {
            "text/plain": [
              "(50000, 28, 28)"
            ]
          },
          "metadata": {},
          "execution_count": 2
        }
      ]
    },
    {
      "cell_type": "markdown",
      "source": [
        "Input data cho mô hình CNN là 1 tensor 4 chiều (N, W, H, D) lần lượt là số lượng ảnh cần trainning, chiều rộng, dài, và số chanel của mỗi bức ảnh. Do Input data ban đầu là (50000, 28, 28) nên cần reshape lại thành (50000, 28, 28, 1)"
      ],
      "metadata": {
        "id": "XffSxfV95y3L"
      }
    },
    {
      "cell_type": "code",
      "source": [
        "# Reshape input \n",
        "X_train = X_train.reshape(X_train.shape[0], X_train.shape[1], X_train.shape[2], 1)\n",
        "X_test = X_test.reshape(X_test.shape[0], X_test.shape[1], X_test.shape[2], 1)\n",
        "X_val = X_val.reshape(X_val.shape[0], X_val.shape[1], X_val.shape[2], 1)"
      ],
      "metadata": {
        "id": "Vr_W90s_5mTL"
      },
      "execution_count": 3,
      "outputs": []
    },
    {
      "cell_type": "markdown",
      "source": [
        "Chuyển output label thành các vector one-hot encoding label."
      ],
      "metadata": {
        "id": "Lti5sHKo62FS"
      }
    },
    {
      "cell_type": "code",
      "source": [
        "# One-hot encoding label(Y)\n",
        "Y_train = np_utils.to_categorical(y_train, 10)\n",
        "Y_val = np_utils.to_categorical(y_val, 10)\n",
        "Y_test = np_utils.to_categorical(y_test, 10)\n",
        "print('Label y: ', y_train[0])\n",
        "print('Label y after one-hot encoding: ', Y_train[0])"
      ],
      "metadata": {
        "colab": {
          "base_uri": "https://localhost:8080/"
        },
        "id": "rFzaPot77BlZ",
        "outputId": "abf25d14-6af2-4b3f-ef9f-5295c62fed95"
      },
      "execution_count": 5,
      "outputs": [
        {
          "output_type": "stream",
          "name": "stdout",
          "text": [
            "Label y:  5\n",
            "Label y after one-hot encoding:  [0. 0. 0. 0. 0. 1. 0. 0. 0. 0.]\n"
          ]
        }
      ]
    },
    {
      "cell_type": "markdown",
      "source": [
        "Các bước định nghĩa một models:\n",
        "\n",
        "\n",
        "1.   Models = Sequential() => Các layers của model được xếp chồng lên nhau theo kiểu stack.\n",
        "2.   Ở layer đầu tiên cần chỉ rõ input_shape của ảnh, input_shape = (W, H, D).\n",
        "3.   Khi thêm các Convolutional Layer cần xác định rõ các tham số K(Số lượng layer), Kernel_size(W, H), hàm Activation sử dụng.\n",
        "4.   Khi thêm các MaxPooling Layer cần chỉ rõ size của kernel.\n",
        "5.   Khi flatten từ tensor sang vector chỉ cần thêm flatten layer.\n",
        "6.   Khi thêm Fully Connected Layer (FC) cần chỉ rõ số lượng node trong layer và hàm activation được sử dụng trong layer.\n",
        "\n"
      ],
      "metadata": {
        "id": "rtAzc0dL_uMi"
      }
    },
    {
      "cell_type": "code",
      "source": [
        "from keras.layers.pooling import MaxPooling2D\n",
        "# Define a model\n",
        "model = Sequential()\n",
        "model.add(Conv2D(32, (3, 3), activation='sigmoid', input_shape=(28, 28, 1)))\n",
        "model.add(Conv2D(32, (3, 3), activation='sigmoid'))\n",
        "model.add(MaxPooling2D(pool_size=(2, 2)))\n",
        "model.add(Flatten())\n",
        "model.add(Dense(128, activation='sigmoid'))\n",
        "model.add(Dense(10, activation='softmax'))"
      ],
      "metadata": {
        "id": "I8l_NDqD8Ntc"
      },
      "execution_count": 7,
      "outputs": []
    },
    {
      "cell_type": "code",
      "source": [
        "# Compile model\n",
        "model.compile(loss='categorical_crossentropy', optimizer='adam', metrics=['accuracy'])\n"
      ],
      "metadata": {
        "id": "tH94WU8bDIYE"
      },
      "execution_count": 8,
      "outputs": []
    },
    {
      "cell_type": "code",
      "source": [
        "# Train model with data\n",
        "Model = model.fit(X_train, Y_train, validation_data=(X_val, Y_val), batch_size=32, epochs=10, verbose=1)"
      ],
      "metadata": {
        "colab": {
          "base_uri": "https://localhost:8080/"
        },
        "id": "Hvwrq1HCDdTr",
        "outputId": "ba20079a-22bb-4474-de66-364c2e79c408"
      },
      "execution_count": 9,
      "outputs": [
        {
          "output_type": "stream",
          "name": "stdout",
          "text": [
            "Epoch 1/10\n",
            "1563/1563 [==============================] - 91s 58ms/step - loss: 0.2970 - accuracy: 0.9192 - val_loss: 0.0702 - val_accuracy: 0.9817\n",
            "Epoch 2/10\n",
            "1563/1563 [==============================] - 89s 57ms/step - loss: 0.0554 - accuracy: 0.9842 - val_loss: 0.0497 - val_accuracy: 0.9857\n",
            "Epoch 3/10\n",
            "1563/1563 [==============================] - 90s 57ms/step - loss: 0.0347 - accuracy: 0.9901 - val_loss: 0.0434 - val_accuracy: 0.9867\n",
            "Epoch 4/10\n",
            "1563/1563 [==============================] - 91s 58ms/step - loss: 0.0242 - accuracy: 0.9928 - val_loss: 0.0432 - val_accuracy: 0.9870\n",
            "Epoch 5/10\n",
            "1563/1563 [==============================] - 90s 58ms/step - loss: 0.0156 - accuracy: 0.9954 - val_loss: 0.0405 - val_accuracy: 0.9880\n",
            "Epoch 6/10\n",
            "1563/1563 [==============================] - 89s 57ms/step - loss: 0.0113 - accuracy: 0.9970 - val_loss: 0.0399 - val_accuracy: 0.9887\n",
            "Epoch 7/10\n",
            "1563/1563 [==============================] - 91s 58ms/step - loss: 0.0075 - accuracy: 0.9981 - val_loss: 0.0457 - val_accuracy: 0.9869\n",
            "Epoch 8/10\n",
            "1563/1563 [==============================] - 90s 58ms/step - loss: 0.0052 - accuracy: 0.9988 - val_loss: 0.0419 - val_accuracy: 0.9889\n",
            "Epoch 9/10\n",
            "1563/1563 [==============================] - 90s 58ms/step - loss: 0.0030 - accuracy: 0.9995 - val_loss: 0.0396 - val_accuracy: 0.9897\n",
            "Epoch 10/10\n",
            "1563/1563 [==============================] - 90s 57ms/step - loss: 0.0048 - accuracy: 0.9985 - val_loss: 0.0418 - val_accuracy: 0.9880\n"
          ]
        }
      ]
    },
    {
      "cell_type": "code",
      "source": [
        "# Vẽ đồ thị hàm loss \n",
        "fig = plt.figure()\n",
        "numOfEpoch = 10\n",
        "plt.plot(np.arange(0, numOfEpoch), Model.history['loss'], label='training loss')\n",
        "plt.plot(np.arange(0, numOfEpoch), Model.history['val_loss'], label='validation loss')\n",
        "plt.plot(np.arange(0, numOfEpoch), Model.history['accuracy'], label='accuracy')\n",
        "plt.plot(np.arange(0, numOfEpoch), Model.history['val_accuracy'], label='validation accuracy')\n",
        "plt.title('Accuracy and Loss')\n",
        "plt.xlabel('Epoch')\n",
        "plt.ylabel('Loss|Accuracy')\n",
        "plt.legend()"
      ],
      "metadata": {
        "colab": {
          "base_uri": "https://localhost:8080/",
          "height": 312
        },
        "id": "QJwTrcWRMYLQ",
        "outputId": "dca87f36-e8d5-43eb-b454-0aff43b3007c"
      },
      "execution_count": 12,
      "outputs": [
        {
          "output_type": "execute_result",
          "data": {
            "text/plain": [
              "<matplotlib.legend.Legend at 0x7fd0404d9810>"
            ]
          },
          "metadata": {},
          "execution_count": 12
        },
        {
          "output_type": "display_data",
          "data": {
            "text/plain": [
              "<Figure size 432x288 with 1 Axes>"
            ],
            "image/png": "[encoded data removed]"
          },
          "metadata": {
            "needs_background": "light"
          }
        }
      ]
    },
    {
      "cell_type": "code",
      "source": [
        "# Đánh giá model với test data\n",
        "score = model.evaluate(X_test, Y_test, verbose=0)\n",
        "print(score)"
      ],
      "metadata": {
        "colab": {
          "base_uri": "https://localhost:8080/"
        },
        "id": "l8QTn4pwOGiI",
        "outputId": "b8ea1476-98ba-4bdf-8c5b-a911e6fb04e6"
      },
      "execution_count": 13,
      "outputs": [
        {
          "output_type": "stream",
          "name": "stdout",
          "text": [
            "[0.04333067312836647, 0.9872999787330627]\n"
          ]
        }
      ]
    }
  ]
}